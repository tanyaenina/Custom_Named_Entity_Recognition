{
  "cells": [
    {
      "cell_type": "code",
      "execution_count": 1,
      "metadata": {
        "id": "r0-xhs92Qcr_"
      },
      "outputs": [],
      "source": [
        "#import all libraries needed\n",
        "import spacy\n",
        "import json\n",
        "from spacy import displacy\n",
        "from sklearn.model_selection import train_test_split\n",
        "from spacy.tokens import DocBin\n",
        "from tqdm import tqdm\n",
        "from spacy.util import filter_spans\n",
        "from spacy.training import Example\n",
        "import matplotlib.pyplot as plt\n",
        "import numpy as np"
      ]
    },
    {
      "cell_type": "code",
      "execution_count": 2,
      "metadata": {
        "id": "14FErJaDTBf5"
      },
      "outputs": [],
      "source": [
        "#create a blank spaCy model for german language\n",
        "nlp = spacy.blank(\"de\")\n",
        "#initialize a DocBin object\n",
        "doc_bin = DocBin()"
      ]
    },
    {
      "cell_type": "code",
      "execution_count": 3,
      "metadata": {
        "id": "zuENNhuxQ9mD"
      },
      "outputs": [],
      "source": [
        "#open the medical NER dataset\n",
        "with open ('/content/GERNERMED_dataset.json','r') as f:\n",
        "  data = json.load(f)"
      ]
    },
    {
      "cell_type": "code",
      "execution_count": 4,
      "metadata": {
        "id": "fn3Pe8viR7Q4"
      },
      "outputs": [],
      "source": [
        "#create train and test sets\n",
        "data_de = []\n",
        "for item in data:\n",
        "  temp_dict = {}\n",
        "  temp_dict['text'] = item['de']\n",
        "  temp_dict['entities'] = []\n",
        "  for annotation in item['annotations']:\n",
        "    start = annotation['de_spans'][0]\n",
        "    end = annotation['de_spans'][1]\n",
        "    label = annotation['type']\n",
        "    temp_dict['entities'].append((start, end, label))\n",
        "  data_de.append(temp_dict)\n",
        "\n",
        "train_data, test_data = train_test_split(data_de, test_size=0.2, random_state=42)"
      ]
    },
    {
      "cell_type": "code",
      "execution_count": null,
      "metadata": {
        "id": "G7So9mAQV2Bg"
      },
      "outputs": [],
      "source": [
        "#process training data for NER and save the processed documents in a binary format for training a spaCy NER model\n",
        "for training_example in tqdm(train_data):\n",
        "    text = training_example['text']\n",
        "    labels = training_example['entities']\n",
        "    doc = nlp.make_doc(text)\n",
        "    ents = []\n",
        "    for start, end, label in labels:\n",
        "        span = doc.char_span(start, end, label=label, alignment_mode=\"contract\")\n",
        "        if span is None:\n",
        "            print(\"Skipping entity\")\n",
        "        else:\n",
        "            ents.append(span)\n",
        "    filtered_ents = filter_spans(ents)\n",
        "    doc.ents = filtered_ents\n",
        "    doc_bin.add(doc)\n",
        "\n",
        "doc_bin.to_disk(\"train.spacy\")"
      ]
    },
    {
      "cell_type": "code",
      "execution_count": null,
      "metadata": {
        "id": "unI6AnP5V_tV"
      },
      "outputs": [],
      "source": [
        "#initialize and generate a final configuration file for training a spaCy model based on a provided base configuration\n",
        "!python -m spacy init fill-config base_config.cfg config.cfg"
      ]
    },
    {
      "cell_type": "code",
      "execution_count": null,
      "metadata": {
        "id": "vdH3OuoxWqDu"
      },
      "outputs": [],
      "source": [
        "#train a model based on the configuration file and training data\n",
        "!python -m spacy train config.cfg --output ./ --paths.train ./train.spacy --paths.dev ./train.spacy"
      ]
    },
    {
      "cell_type": "code",
      "execution_count": 9,
      "metadata": {
        "id": "0iqolp7qW3Yn"
      },
      "outputs": [],
      "source": [
        "#load the saved best performing model\n",
        "nlp_ner = spacy.load(\"model-best\")"
      ]
    },
    {
      "cell_type": "code",
      "source": [
        "#define colors for entities\n",
        "colors = {\"DRUG\": \"#F67DE3\", \"STRENGTH\": \"#7DF6D9\", \"DOSAGE\":\"#a6e22d\", \"FORM\":\"#7DF6h7\", \"FREQUENCY\":\"#a6e22b\",\"DURATION\":\"#7DF6h7\"}\n",
        "options = {\"colors\": colors}\n",
        "\n",
        "#examples from test_data\n",
        "doc = nlp_ner(\"Amoxicillin-Topf Clavulanat 875-125 mg Tablet Sig: One (1) Tablet PO Q12H (alle 12 Stunden) für 11 Tage: letzter Tag 2011-01-04.\")\n",
        "spacy.displacy.render(doc, style=\"ent\", options= options, jupyter=True)\n",
        "print('--------')\n",
        "doc = nlp_ner(\"Triamcinolon Acetonid 0,1% Creme 1 Appl TP TID auf Hautausschlag 6.\")\n",
        "spacy.displacy.render(doc, style=\"ent\", options= options, jupyter=True)\n",
        "print('--------')\n",
        "doc = nlp_ner(\"Tricor 145 mg Tablette Sig: Eine (1) Tablette PO einmal täglich.\")\n",
        "spacy.displacy.render(doc, style=\"ent\", options= options, jupyter=True)"
      ],
      "metadata": {
        "colab": {
          "base_uri": "https://localhost:8080/",
          "height": 193
        },
        "id": "4qLKeh_JQyuS",
        "outputId": "6ae5caa6-3751-409d-93dd-80aa7a99c5ca"
      },
      "execution_count": 44,
      "outputs": [
        {
          "output_type": "display_data",
          "data": {
            "text/plain": [
              "<IPython.core.display.HTML object>"
            ],
            "text/html": [
              "<span class=\"tex2jax_ignore\"><div class=\"entities\" style=\"line-height: 2.5; direction: ltr\">\n",
              "<mark class=\"entity\" style=\"background: #F67DE3; padding: 0.45em 0.6em; margin: 0 0.25em; line-height: 1; border-radius: 0.35em;\">\n",
              "    Amoxicillin-Topf Clavulanat\n",
              "    <span style=\"font-size: 0.8em; font-weight: bold; line-height: 1; border-radius: 0.35em; vertical-align: middle; margin-left: 0.5rem\">Drug</span>\n",
              "</mark>\n",
              " \n",
              "<mark class=\"entity\" style=\"background: #7DF6D9; padding: 0.45em 0.6em; margin: 0 0.25em; line-height: 1; border-radius: 0.35em;\">\n",
              "    875-125 mg\n",
              "    <span style=\"font-size: 0.8em; font-weight: bold; line-height: 1; border-radius: 0.35em; vertical-align: middle; margin-left: 0.5rem\">Strength</span>\n",
              "</mark>\n",
              " \n",
              "<mark class=\"entity\" style=\"background: #7DF6h7; padding: 0.45em 0.6em; margin: 0 0.25em; line-height: 1; border-radius: 0.35em;\">\n",
              "    Tablet\n",
              "    <span style=\"font-size: 0.8em; font-weight: bold; line-height: 1; border-radius: 0.35em; vertical-align: middle; margin-left: 0.5rem\">Form</span>\n",
              "</mark>\n",
              " Sig: \n",
              "<mark class=\"entity\" style=\"background: #a6e22d; padding: 0.45em 0.6em; margin: 0 0.25em; line-height: 1; border-radius: 0.35em;\">\n",
              "    One (1)\n",
              "    <span style=\"font-size: 0.8em; font-weight: bold; line-height: 1; border-radius: 0.35em; vertical-align: middle; margin-left: 0.5rem\">Dosage</span>\n",
              "</mark>\n",
              " \n",
              "<mark class=\"entity\" style=\"background: #7DF6h7; padding: 0.45em 0.6em; margin: 0 0.25em; line-height: 1; border-radius: 0.35em;\">\n",
              "    Tablet\n",
              "    <span style=\"font-size: 0.8em; font-weight: bold; line-height: 1; border-radius: 0.35em; vertical-align: middle; margin-left: 0.5rem\">Form</span>\n",
              "</mark>\n",
              " \n",
              "<mark class=\"entity\" style=\"background: #ddd; padding: 0.45em 0.6em; margin: 0 0.25em; line-height: 1; border-radius: 0.35em;\">\n",
              "    PO\n",
              "    <span style=\"font-size: 0.8em; font-weight: bold; line-height: 1; border-radius: 0.35em; vertical-align: middle; margin-left: 0.5rem\">Route</span>\n",
              "</mark>\n",
              " \n",
              "<mark class=\"entity\" style=\"background: #a6e22b; padding: 0.45em 0.6em; margin: 0 0.25em; line-height: 1; border-radius: 0.35em;\">\n",
              "    Q12H (alle 12 Stunden)\n",
              "    <span style=\"font-size: 0.8em; font-weight: bold; line-height: 1; border-radius: 0.35em; vertical-align: middle; margin-left: 0.5rem\">Frequency</span>\n",
              "</mark>\n",
              " \n",
              "<mark class=\"entity\" style=\"background: #7DF6h7; padding: 0.45em 0.6em; margin: 0 0.25em; line-height: 1; border-radius: 0.35em;\">\n",
              "    für 11 Tage:\n",
              "    <span style=\"font-size: 0.8em; font-weight: bold; line-height: 1; border-radius: 0.35em; vertical-align: middle; margin-left: 0.5rem\">Duration</span>\n",
              "</mark>\n",
              " letzter Tag 2011-01-04.</div></span>"
            ]
          },
          "metadata": {}
        },
        {
          "output_type": "stream",
          "name": "stdout",
          "text": [
            "--------\n"
          ]
        },
        {
          "output_type": "display_data",
          "data": {
            "text/plain": [
              "<IPython.core.display.HTML object>"
            ],
            "text/html": [
              "<span class=\"tex2jax_ignore\"><div class=\"entities\" style=\"line-height: 2.5; direction: ltr\">\n",
              "<mark class=\"entity\" style=\"background: #F67DE3; padding: 0.45em 0.6em; margin: 0 0.25em; line-height: 1; border-radius: 0.35em;\">\n",
              "    Triamcinolon Acetonid\n",
              "    <span style=\"font-size: 0.8em; font-weight: bold; line-height: 1; border-radius: 0.35em; vertical-align: middle; margin-left: 0.5rem\">Drug</span>\n",
              "</mark>\n",
              " \n",
              "<mark class=\"entity\" style=\"background: #7DF6D9; padding: 0.45em 0.6em; margin: 0 0.25em; line-height: 1; border-radius: 0.35em;\">\n",
              "    0,1%\n",
              "    <span style=\"font-size: 0.8em; font-weight: bold; line-height: 1; border-radius: 0.35em; vertical-align: middle; margin-left: 0.5rem\">Strength</span>\n",
              "</mark>\n",
              " \n",
              "<mark class=\"entity\" style=\"background: #7DF6h7; padding: 0.45em 0.6em; margin: 0 0.25em; line-height: 1; border-radius: 0.35em;\">\n",
              "    Creme\n",
              "    <span style=\"font-size: 0.8em; font-weight: bold; line-height: 1; border-radius: 0.35em; vertical-align: middle; margin-left: 0.5rem\">Form</span>\n",
              "</mark>\n",
              " \n",
              "<mark class=\"entity\" style=\"background: #a6e22d; padding: 0.45em 0.6em; margin: 0 0.25em; line-height: 1; border-radius: 0.35em;\">\n",
              "    1\n",
              "    <span style=\"font-size: 0.8em; font-weight: bold; line-height: 1; border-radius: 0.35em; vertical-align: middle; margin-left: 0.5rem\">Dosage</span>\n",
              "</mark>\n",
              " \n",
              "<mark class=\"entity\" style=\"background: #7DF6h7; padding: 0.45em 0.6em; margin: 0 0.25em; line-height: 1; border-radius: 0.35em;\">\n",
              "    Appl\n",
              "    <span style=\"font-size: 0.8em; font-weight: bold; line-height: 1; border-radius: 0.35em; vertical-align: middle; margin-left: 0.5rem\">Form</span>\n",
              "</mark>\n",
              " \n",
              "<mark class=\"entity\" style=\"background: #ddd; padding: 0.45em 0.6em; margin: 0 0.25em; line-height: 1; border-radius: 0.35em;\">\n",
              "    TP\n",
              "    <span style=\"font-size: 0.8em; font-weight: bold; line-height: 1; border-radius: 0.35em; vertical-align: middle; margin-left: 0.5rem\">Route</span>\n",
              "</mark>\n",
              " \n",
              "<mark class=\"entity\" style=\"background: #a6e22b; padding: 0.45em 0.6em; margin: 0 0.25em; line-height: 1; border-radius: 0.35em;\">\n",
              "    TID\n",
              "    <span style=\"font-size: 0.8em; font-weight: bold; line-height: 1; border-radius: 0.35em; vertical-align: middle; margin-left: 0.5rem\">Frequency</span>\n",
              "</mark>\n",
              " auf Hautausschlag 6.</div></span>"
            ]
          },
          "metadata": {}
        },
        {
          "output_type": "stream",
          "name": "stdout",
          "text": [
            "--------\n"
          ]
        },
        {
          "output_type": "display_data",
          "data": {
            "text/plain": [
              "<IPython.core.display.HTML object>"
            ],
            "text/html": [
              "<span class=\"tex2jax_ignore\"><div class=\"entities\" style=\"line-height: 2.5; direction: ltr\">Tricor \n",
              "<mark class=\"entity\" style=\"background: #7DF6D9; padding: 0.45em 0.6em; margin: 0 0.25em; line-height: 1; border-radius: 0.35em;\">\n",
              "    145 mg\n",
              "    <span style=\"font-size: 0.8em; font-weight: bold; line-height: 1; border-radius: 0.35em; vertical-align: middle; margin-left: 0.5rem\">Strength</span>\n",
              "</mark>\n",
              " \n",
              "<mark class=\"entity\" style=\"background: #7DF6h7; padding: 0.45em 0.6em; margin: 0 0.25em; line-height: 1; border-radius: 0.35em;\">\n",
              "    Tablette\n",
              "    <span style=\"font-size: 0.8em; font-weight: bold; line-height: 1; border-radius: 0.35em; vertical-align: middle; margin-left: 0.5rem\">Form</span>\n",
              "</mark>\n",
              " Sig: \n",
              "<mark class=\"entity\" style=\"background: #a6e22d; padding: 0.45em 0.6em; margin: 0 0.25em; line-height: 1; border-radius: 0.35em;\">\n",
              "    Eine (1)\n",
              "    <span style=\"font-size: 0.8em; font-weight: bold; line-height: 1; border-radius: 0.35em; vertical-align: middle; margin-left: 0.5rem\">Dosage</span>\n",
              "</mark>\n",
              " \n",
              "<mark class=\"entity\" style=\"background: #7DF6h7; padding: 0.45em 0.6em; margin: 0 0.25em; line-height: 1; border-radius: 0.35em;\">\n",
              "    Tablette\n",
              "    <span style=\"font-size: 0.8em; font-weight: bold; line-height: 1; border-radius: 0.35em; vertical-align: middle; margin-left: 0.5rem\">Form</span>\n",
              "</mark>\n",
              " \n",
              "<mark class=\"entity\" style=\"background: #ddd; padding: 0.45em 0.6em; margin: 0 0.25em; line-height: 1; border-radius: 0.35em;\">\n",
              "    PO\n",
              "    <span style=\"font-size: 0.8em; font-weight: bold; line-height: 1; border-radius: 0.35em; vertical-align: middle; margin-left: 0.5rem\">Route</span>\n",
              "</mark>\n",
              " \n",
              "<mark class=\"entity\" style=\"background: #a6e22b; padding: 0.45em 0.6em; margin: 0 0.25em; line-height: 1; border-radius: 0.35em;\">\n",
              "    einmal täglich.\n",
              "    <span style=\"font-size: 0.8em; font-weight: bold; line-height: 1; border-radius: 0.35em; vertical-align: middle; margin-left: 0.5rem\">Frequency</span>\n",
              "</mark>\n",
              "</div></span>"
            ]
          },
          "metadata": {}
        }
      ]
    },
    {
      "cell_type": "code",
      "execution_count": 45,
      "metadata": {
        "id": "PqQMYCYJ6yFM"
      },
      "outputs": [],
      "source": [
        "#convert the evaluation data into spaCy Examples\n",
        "examples = []\n",
        "for entry in test_data:\n",
        "    text = entry['text']\n",
        "    entities = entry['entities']\n",
        "    doc = nlp_ner.make_doc(text)\n",
        "    annot = {\"entities\": entities}\n",
        "    example = Example.from_dict(doc, annot)\n",
        "    examples.append(example)\n",
        "\n",
        "#evaluate the model\n",
        "scorer = nlp_ner.evaluate(examples)\n",
        "ents_per_type = scorer['ents_per_type']"
      ]
    },
    {
      "cell_type": "code",
      "execution_count": 46,
      "metadata": {
        "colab": {
          "base_uri": "https://localhost:8080/",
          "height": 1000
        },
        "id": "0I2qYfs1BYCG",
        "outputId": "f7d5c98e-bf98-4d2f-c143-f9f58e4201ea"
      },
      "outputs": [
        {
          "output_type": "display_data",
          "data": {
            "text/plain": [
              "<Figure size 800x600 with 1 Axes>"
            ],
            "image/png": "[encoded data removed]"
          },
          "metadata": {}
        },
        {
          "output_type": "display_data",
          "data": {
            "text/plain": [
              "<Figure size 1000x700 with 1 Axes>"
            ],
            "image/png": "[encoded data removed]"
          },
          "metadata": {}
        }
      ],
      "source": [
        "#visualize results\n",
        "\n",
        "metrics = ['Precision', 'Recall', 'F1 Score']\n",
        "values = [scorer['ents_p'], scorer['ents_r'], scorer['ents_f']]\n",
        "\n",
        "#create a bar chart for overall evaluation metrics\n",
        "plt.figure(figsize=(8, 6))\n",
        "plt.bar(metrics, values, color=['#1f77b4', '#ff7f0e', '#2ca02c'])\n",
        "plt.xlabel('Metrics')\n",
        "plt.ylabel('Score')\n",
        "plt.title('Overall NER Evaluation Metrics')\n",
        "plt.ylim(0, 1)\n",
        "plt.show()\n",
        "\n",
        "ents_per_type = scorer['ents_per_type']\n",
        "entity_types = list(ents_per_type.keys())\n",
        "precisions = [ents_per_type[ent]['p'] for ent in entity_types]\n",
        "recalls = [ents_per_type[ent]['r'] for ent in entity_types]\n",
        "f1_scores = [ents_per_type[ent]['f'] for ent in entity_types]\n",
        "\n",
        "#create a bar plot for precision, recall, and F1 score per entity type\n",
        "x = np.arange(len(entity_types))\n",
        "width = 0.25\n",
        "plt.figure(figsize=(10, 7))\n",
        "plt.bar(x - width, precisions, width, label='Precision', color='#1f77b4')\n",
        "plt.bar(x, recalls, width, label='Recall', color='#ff7f0e')\n",
        "plt.bar(x + width, f1_scores, width, label='F1 Score', color='#2ca02c')\n",
        "plt.xlabel('Entity Types')\n",
        "plt.ylabel('Scores')\n",
        "plt.title('NER Evaluation Metrics per Entity Type')\n",
        "plt.xticks(x, entity_types, rotation=45)\n",
        "plt.ylim(0, 1)\n",
        "plt.legend()\n",
        "plt.tight_layout()\n",
        "plt.show()"
      ]
    }
  ],
  "metadata": {
    "colab": {
      "provenance": []
    },
    "kernelspec": {
      "display_name": "Python 3",
      "name": "python3"
    },
    "language_info": {
      "name": "python"
    }
  },
  "nbformat": 4,
  "nbformat_minor": 0
}